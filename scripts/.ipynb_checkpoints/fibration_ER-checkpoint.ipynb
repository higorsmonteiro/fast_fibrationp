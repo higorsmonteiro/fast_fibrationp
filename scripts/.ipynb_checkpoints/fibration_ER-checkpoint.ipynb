{
 "cells": [
  {
   "cell_type": "markdown",
   "metadata": {},
   "source": [
    "# Compare runtime"
   ]
  },
  {
   "cell_type": "code",
   "execution_count": 1,
   "metadata": {},
   "outputs": [
    {
     "name": "stderr",
     "output_type": "stream",
     "text": [
      "┌ Info: Precompiling netx [top-level]\n",
      "└ @ Base loading.jl:1278\n"
     ]
    }
   ],
   "source": [
    "#include(\"../netx.jl\")\n",
    "push!(LOAD_PATH, \"../\"); using netx\n",
    "#import .netx\n",
    "\n",
    "using BenchmarkTools"
   ]
  },
  {
   "cell_type": "markdown",
   "metadata": {},
   "source": [
    "## Path to data"
   ]
  },
  {
   "cell_type": "code",
   "execution_count": 2,
   "metadata": {},
   "outputs": [
    {
     "data": {
      "text/plain": [
       "4-element Array{Int64,1}:\n",
       " 1\n",
       " 2\n",
       " 4\n",
       " 8"
      ]
     },
     "execution_count": 2,
     "metadata": {},
     "output_type": "execute_result"
    }
   ],
   "source": [
    "path_to = \"../ER/\"\n",
    "folders = String[\"TYPE1\", \"TYPE2\", \"TYPE4\", \"TYPE8\"]\n",
    "\n",
    "sizes = Int[512, 1024, 2048, 4096, 8192, 16384]\n",
    "k_mean = Float64[1.0, 2.0, 4.0, 8.0]\n",
    "ntype = Int[1, 2, 4, 8]"
   ]
  },
  {
   "cell_type": "code",
   "execution_count": 57,
   "metadata": {},
   "outputs": [
    {
     "data": {
      "text/plain": [
       "process_samples (generic function with 1 method)"
      ]
     },
     "execution_count": 57,
     "metadata": {},
     "output_type": "execute_result"
    }
   ],
   "source": [
    "function process_network(N::Int, k::Float64, ne_type::Int, samp::Int)\n",
    "    fname = \"$(path_to)TYPE$(ntype[ne_type])/ER_N$(N)_k$(k)_samp$(samp).txt\"\n",
    "    edges, eprops = netx.process_edgefile(fname, true)\n",
    "    fmt_eprops = netx.process_eprops(eprops, [\"regulation\"])\n",
    "    edgetype_prop = parse.(Int, fmt_eprops[\"regulation\"])\n",
    "    \n",
    "    # -- Create network and set the edgetypes as an edge property --\n",
    "    g = netx.graph_from_edgelist(edges, true)\n",
    "    netx.set_edges_properties(\"edgetype\", edgetype_prop, g)\n",
    "    return g\n",
    "end\n",
    "\n",
    "function process_samples(N::Int, ne_type::Int)\n",
    "    nsamp = 30\n",
    "    runtime = [ Float64[0.0 for j in 1:nsamp] for i in 1:4 ]\n",
    "    mem = [ Float64[0.0 for j in 1:nsamp] for i in 1:4 ]\n",
    "    for (j, k_mean) in enumerate(Float64[1.0, 2.0, 4.0, 8.0])\n",
    "        print(\"mean degree = $(k_mean)\\n\")\n",
    "        for i in 1:nsamp\n",
    "            print(\"$i \")\n",
    "            g = process_network(N, k_mean, ne_type, i)\n",
    "            b = @benchmarkable netx.fast_fibration($g)\n",
    "            tune!(b)\n",
    "            res = minimum(run(b))\n",
    "            runtime[j][i] = res.time*1e-9\n",
    "            mem[j][i] = res.memory*1e-6\n",
    "        end\n",
    "        print(\"\\n\")\n",
    "    end\n",
    "    return runtime, mem\n",
    "end"
   ]
  },
  {
   "cell_type": "code",
   "execution_count": 29,
   "metadata": {},
   "outputs": [
    {
     "name": "stdout",
     "output_type": "stream",
     "text": [
      "N = 2048; M = 16445"
     ]
    }
   ],
   "source": [
    "g = process_network(2048, 8.0, 1, 1)\n",
    "print(\"N = $(g.N); M = $(g.M)\")"
   ]
  },
  {
   "cell_type": "code",
   "execution_count": 32,
   "metadata": {},
   "outputs": [
    {
     "name": "stdout",
     "output_type": "stream",
     "text": [
      "  3.571 s (25470402 allocations: 9.17 GiB)\n"
     ]
    },
    {
     "data": {
      "text/plain": [
       "2048-element Array{netx.Fiber,1}:\n",
       " netx.Fiber(1, 1, 0, Int64[], [436], Dict{Int64,Int64}())\n",
       " netx.Fiber(2, 1, 0, Int64[], [24], Dict{Int64,Int64}())\n",
       " netx.Fiber(3, 1, 0, Int64[], [1472], Dict{Int64,Int64}())\n",
       " netx.Fiber(4, 1, 0, Int64[], [427], Dict{Int64,Int64}())\n",
       " netx.Fiber(5, 1, 0, Int64[], [1998], Dict{Int64,Int64}())\n",
       " netx.Fiber(6, 1, 0, Int64[], [1714], Dict{Int64,Int64}())\n",
       " netx.Fiber(7, 1, 0, Int64[], [1614], Dict{Int64,Int64}())\n",
       " netx.Fiber(8, 1, 0, Int64[], [1034], Dict{Int64,Int64}())\n",
       " netx.Fiber(9, 1, 0, Int64[], [987], Dict{Int64,Int64}())\n",
       " netx.Fiber(10, 1, 0, Int64[], [274], Dict{Int64,Int64}())\n",
       " netx.Fiber(11, 1, 0, Int64[], [979], Dict{Int64,Int64}())\n",
       " netx.Fiber(12, 1, 0, Int64[], [1098], Dict{Int64,Int64}())\n",
       " netx.Fiber(13, 1, 0, Int64[], [1551], Dict{Int64,Int64}())\n",
       " ⋮\n",
       " netx.Fiber(2037, 1, 0, Int64[], [1371], Dict{Int64,Int64}())\n",
       " netx.Fiber(2038, 1, 0, Int64[], [712], Dict{Int64,Int64}())\n",
       " netx.Fiber(2039, 1, 0, Int64[], [830], Dict{Int64,Int64}())\n",
       " netx.Fiber(2040, 1, 0, Int64[], [628], Dict{Int64,Int64}())\n",
       " netx.Fiber(2041, 1, 0, Int64[], [165], Dict{Int64,Int64}())\n",
       " netx.Fiber(2042, 1, 0, Int64[], [965], Dict{Int64,Int64}())\n",
       " netx.Fiber(2043, 1, 0, Int64[], [1831], Dict{Int64,Int64}())\n",
       " netx.Fiber(2044, 1, 0, Int64[], [722], Dict{Int64,Int64}())\n",
       " netx.Fiber(2045, 1, 0, Int64[], [1379], Dict{Int64,Int64}())\n",
       " netx.Fiber(2046, 1, 0, Int64[], [363], Dict{Int64,Int64}())\n",
       " netx.Fiber(2047, 1, 0, Int64[], [964], Dict{Int64,Int64}())\n",
       " netx.Fiber(2048, 1, 0, Int64[], [1375], Dict{Int64,Int64}())"
      ]
     },
     "execution_count": 32,
     "metadata": {},
     "output_type": "execute_result"
    }
   ],
   "source": [
    "@btime partition = netx.minimal_coloring($g)"
   ]
  },
  {
   "cell_type": "code",
   "execution_count": 35,
   "metadata": {},
   "outputs": [
    {
     "data": {
      "text/plain": [
       "BenchmarkTools.Trial: \n",
       "  memory estimate:  316.64 MiB\n",
       "  allocs estimate:  5334104\n",
       "  --------------\n",
       "  minimum time:     317.044 ms (20.48% GC)\n",
       "  median time:      422.606 ms (19.50% GC)\n",
       "  mean time:        412.871 ms (20.48% GC)\n",
       "  maximum time:     457.473 ms (25.60% GC)\n",
       "  --------------\n",
       "  samples:          13\n",
       "  evals/sample:     1"
      ]
     },
     "execution_count": 35,
     "metadata": {},
     "output_type": "execute_result"
    }
   ],
   "source": [
    "b = @benchmarkable netx.fast_fibration($g);\n",
    "tune!(b);\n",
    "out = run(b)"
   ]
  },
  {
   "cell_type": "code",
   "execution_count": 40,
   "metadata": {},
   "outputs": [
    {
     "name": "stdout",
     "output_type": "stream",
     "text": [
      "search: \u001b[0m\u001b[1mo\u001b[22m\u001b[0m\u001b[1mu\u001b[22m\u001b[0m\u001b[1mt\u001b[22m \u001b[0m\u001b[1mO\u001b[22m\u001b[0m\u001b[1mu\u001b[22m\u001b[0m\u001b[1mt\u001b[22m \u001b[0m\u001b[1mO\u001b[22m\u001b[0m\u001b[1mu\u001b[22m\u001b[0m\u001b[1mt\u001b[22mOfMemoryError std\u001b[0m\u001b[1mo\u001b[22m\u001b[0m\u001b[1mu\u001b[22m\u001b[0m\u001b[1mt\u001b[22m c\u001b[0m\u001b[1mo\u001b[22m\u001b[0m\u001b[1mu\u001b[22mn\u001b[0m\u001b[1mt\u001b[22m c\u001b[0m\u001b[1mo\u001b[22m\u001b[0m\u001b[1mu\u001b[22mn\u001b[0m\u001b[1mt\u001b[22m! c\u001b[0m\u001b[1mo\u001b[22m\u001b[0m\u001b[1mu\u001b[22mn\u001b[0m\u001b[1mt\u001b[22mlines c\u001b[0m\u001b[1mo\u001b[22m\u001b[0m\u001b[1mu\u001b[22mn\u001b[0m\u001b[1mt\u001b[22m_ones\n",
      "\n"
     ]
    },
    {
     "data": {
      "text/latex": [
       "No documentation found.\n",
       "\n",
       "\\texttt{out} is of type \\texttt{BenchmarkTools.Trial}.\n",
       "\n",
       "\\section{Summary}\n",
       "\\begin{verbatim}\n",
       "mutable struct BenchmarkTools.Trial <: Any\n",
       "\\end{verbatim}\n",
       "\\section{Fields}\n",
       "\\begin{verbatim}\n",
       "params  :: BenchmarkTools.Parameters\n",
       "times   :: Array{Float64,1}\n",
       "gctimes :: Array{Float64,1}\n",
       "memory  :: Int64\n",
       "allocs  :: Int64\n",
       "\\end{verbatim}\n"
      ],
      "text/markdown": [
       "No documentation found.\n",
       "\n",
       "`out` is of type `BenchmarkTools.Trial`.\n",
       "\n",
       "# Summary\n",
       "\n",
       "```\n",
       "mutable struct BenchmarkTools.Trial <: Any\n",
       "```\n",
       "\n",
       "# Fields\n",
       "\n",
       "```\n",
       "params  :: BenchmarkTools.Parameters\n",
       "times   :: Array{Float64,1}\n",
       "gctimes :: Array{Float64,1}\n",
       "memory  :: Int64\n",
       "allocs  :: Int64\n",
       "```\n"
      ],
      "text/plain": [
       "  No documentation found.\n",
       "\n",
       "  \u001b[36mout\u001b[39m is of type \u001b[36mBenchmarkTools.Trial\u001b[39m.\n",
       "\n",
       "\u001b[1m  Summary\u001b[22m\n",
       "\u001b[1m  ≡≡≡≡≡≡≡≡≡\u001b[22m\n",
       "\n",
       "\u001b[36m  mutable struct BenchmarkTools.Trial <: Any\u001b[39m\n",
       "\n",
       "\u001b[1m  Fields\u001b[22m\n",
       "\u001b[1m  ≡≡≡≡≡≡≡≡\u001b[22m\n",
       "\n",
       "\u001b[36m  params  :: BenchmarkTools.Parameters\u001b[39m\n",
       "\u001b[36m  times   :: Array{Float64,1}\u001b[39m\n",
       "\u001b[36m  gctimes :: Array{Float64,1}\u001b[39m\n",
       "\u001b[36m  memory  :: Int64\u001b[39m\n",
       "\u001b[36m  allocs  :: Int64\u001b[39m"
      ]
     },
     "execution_count": 40,
     "metadata": {},
     "output_type": "execute_result"
    }
   ],
   "source": [
    "?out"
   ]
  },
  {
   "cell_type": "code",
   "execution_count": 41,
   "metadata": {},
   "outputs": [
    {
     "data": {
      "text/plain": [
       "13-element Array{Float64,1}:\n",
       " 6.4929507e7\n",
       " 6.5049579e7\n",
       " 7.7447115e7\n",
       " 7.3743377e7\n",
       " 7.8182339e7\n",
       " 8.2424351e7\n",
       " 7.983025e7\n",
       " 9.0463789e7\n",
       " 9.0254223e7\n",
       " 9.9398462e7\n",
       " 9.4692771e7\n",
       " 8.5598788e7\n",
       " 1.17096382e8"
      ]
     },
     "execution_count": 41,
     "metadata": {},
     "output_type": "execute_result"
    }
   ],
   "source": [
    "out.gctimes"
   ]
  },
  {
   "cell_type": "code",
   "execution_count": 56,
   "metadata": {},
   "outputs": [
    {
     "data": {
      "text/plain": [
       "BenchmarkTools.TrialEstimate: \n",
       "  time:             317.044 ms\n",
       "  gctime:           64.930 ms (20.48%)\n",
       "  memory:           316.64 MiB\n",
       "  allocs:           5334104"
      ]
     },
     "execution_count": 56,
     "metadata": {},
     "output_type": "execute_result"
    }
   ],
   "source": [
    "d = minimum(out)"
   ]
  },
  {
   "cell_type": "code",
   "execution_count": 54,
   "metadata": {},
   "outputs": [
    {
     "data": {
      "text/plain": [
       "332016424"
      ]
     },
     "execution_count": 54,
     "metadata": {},
     "output_type": "execute_result"
    }
   ],
   "source": [
    "t = (d.memory)"
   ]
  },
  {
   "cell_type": "code",
   "execution_count": 55,
   "metadata": {},
   "outputs": [
    {
     "data": {
      "text/plain": [
       "332.016424"
      ]
     },
     "execution_count": 55,
     "metadata": {},
     "output_type": "execute_result"
    }
   ],
   "source": [
    "t*1e-6"
   ]
  },
  {
   "cell_type": "code",
   "execution_count": null,
   "metadata": {},
   "outputs": [],
   "source": []
  }
 ],
 "metadata": {
  "kernelspec": {
   "display_name": "Julia 1.5.2",
   "language": "julia",
   "name": "julia-1.5"
  },
  "language_info": {
   "file_extension": ".jl",
   "mimetype": "application/julia",
   "name": "julia",
   "version": "1.5.2"
  },
  "toc": {
   "base_numbering": 1,
   "nav_menu": {},
   "number_sections": true,
   "sideBar": true,
   "skip_h1_title": false,
   "title_cell": "Table of Contents",
   "title_sidebar": "Contents",
   "toc_cell": false,
   "toc_position": {},
   "toc_section_display": true,
   "toc_window_display": false
  },
  "varInspector": {
   "cols": {
    "lenName": 16,
    "lenType": 16,
    "lenVar": 40
   },
   "kernels_config": {
    "python": {
     "delete_cmd_postfix": "",
     "delete_cmd_prefix": "del ",
     "library": "var_list.py",
     "varRefreshCmd": "print(var_dic_list())"
    },
    "r": {
     "delete_cmd_postfix": ") ",
     "delete_cmd_prefix": "rm(",
     "library": "var_list.r",
     "varRefreshCmd": "cat(var_dic_list()) "
    }
   },
   "types_to_exclude": [
    "module",
    "function",
    "builtin_function_or_method",
    "instance",
    "_Feature"
   ],
   "window_display": false
  }
 },
 "nbformat": 4,
 "nbformat_minor": 4
}
