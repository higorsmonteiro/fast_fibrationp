{
 "cells": [
  {
   "cell_type": "markdown",
   "metadata": {},
   "source": [
    "# Compare runtime"
   ]
  },
  {
   "cell_type": "code",
   "execution_count": 2,
   "metadata": {},
   "outputs": [],
   "source": [
    "push!(LOAD_PATH, \"../\"); using netx"
   ]
  },
  {
   "cell_type": "markdown",
   "metadata": {},
   "source": [
    "## Path to data"
   ]
  },
  {
   "cell_type": "code",
   "execution_count": 2,
   "metadata": {},
   "outputs": [],
   "source": [
    "path_to = \"../ER/\"\n",
    "N = 256\n",
    "for k_mean in Float64[1.0, 2.0, 4.0, 8.0]\n",
    "    for nt in [1, 2, 4, 8]\n",
    "        for nsamp in 1:20\n",
    "            g = netx.ER_multi(N, k_mean, nt, true)\n",
    "            netx.export_edgefile(g, \"$(path_to)TYPE$(nt)/ER_N$(N)_k$(k_mean)_samp$(nsamp)\")\n",
    "        end\n",
    "    end\n",
    "end"
   ]
  },
  {
   "cell_type": "code",
   "execution_count": null,
   "metadata": {},
   "outputs": [
    {
     "name": "stdout",
     "output_type": "stream",
     "text": [
      "Size 512\n",
      "mean degree = 1.0\n",
      "1 2 3 4 5 6 7 8 9 10 \n",
      "mean degree = 2.0\n",
      "1 2 3 4 5 6 7 8 9 10 \n",
      "mean degree = 4.0\n",
      "1 2 3 4 5 6 7 8 9 10 \n",
      "mean degree = 8.0\n",
      "1 2 3 4 5 6 7 8 9 10 \n",
      "Size 1024\n",
      "mean degree = 1.0\n",
      "1 2 3 4 5 6 7 8 9 10 \n",
      "mean degree = 2.0\n",
      "1 2 3 4 5 6 7 8 9 10 \n",
      "mean degree = 4.0\n",
      "1 2 3 4 5 6 7 8 9 10 \n",
      "mean degree = 8.0\n",
      "1 2 3 4 5 6 7 8 9 10 \n",
      "Size 2048\n",
      "mean degree = 1.0\n",
      "1 2 3 4 5 6 7 8 9 10 \n",
      "mean degree = 2.0\n",
      "1 2 3 4 5 6 7 8 9 10 \n",
      "mean degree = 4.0\n",
      "1 2 3 4 5 6 7 8 9 10 \n",
      "mean degree = 8.0\n",
      "1 2 3 4 5 6 7 8 9 10 \n",
      "Size 4096\n",
      "mean degree = 1.0\n",
      "1 2 3 4 5 6 7 8 9 10 \n",
      "mean degree = 2.0\n",
      "1 2 3 4 5 6 7 8 9 10 \n",
      "mean degree = 4.0\n",
      "1 2 3 4 5 6 7 8 9 10 \n",
      "mean degree = 8.0\n",
      "1 2 3 4 5 6 7 8 9 10 \n",
      "Size 8192\n",
      "mean degree = 1.0\n",
      "1 2 3 4 5 6 7 8 9 10 \n",
      "mean degree = 2.0\n",
      "1 2 3 4 5 6 7 8 9 10 \n",
      "mean degree = 4.0\n",
      "1 2 3 4 5 6 7 8 9 10 \n",
      "mean degree = 8.0\n",
      "1 2 3 4 5 6 7 8 9 10 \n",
      "Size 16384\n",
      "mean degree = 1.0\n",
      "1 2 3 4 5 6 7 8 9 "
     ]
    }
   ],
   "source": [
    "do_measure(path_to, 10, prefix)"
   ]
  },
  {
   "cell_type": "code",
   "execution_count": 4,
   "metadata": {},
   "outputs": [],
   "source": [
    "g = open_random_net(path_to, 8192, 2.0, 1, 1)\n",
    "return"
   ]
  },
  {
   "cell_type": "code",
   "execution_count": 5,
   "metadata": {},
   "outputs": [
    {
     "ename": "InexactError",
     "evalue": "InexactError: trunc(Int32, 3045272816)",
     "output_type": "error",
     "traceback": [
      "InexactError: trunc(Int32, 3045272816)",
      "",
      "Stacktrace:",
      " [1] throw_inexacterror(::Symbol, ::Any, ::Int64) at ./boot.jl:567",
      " [2] checked_trunc_sint at ./boot.jl:589 [inlined]",
      " [3] toInt32 at ./boot.jl:626 [inlined]",
      " [4] Type at ./boot.jl:716 [inlined]",
      " [5] ##sample#441(::BenchmarkTools.Parameters) at /home/mhigor/.julia/packages/BenchmarkTools/eCEpo/src/execution.jl:386",
      " [6] #_run#31(::Bool, ::String, ::Base.Iterators.Pairs{Union{},Union{},Tuple{},NamedTuple{(),Tuple{}}}, ::Function, ::BenchmarkTools.Benchmark{Symbol(\"##benchmark#439\")}, ::BenchmarkTools.Parameters) at /home/mhigor/.julia/packages/BenchmarkTools/eCEpo/src/execution.jl:405",
      " [7] _run(::BenchmarkTools.Benchmark{Symbol(\"##benchmark#439\")}, ::BenchmarkTools.Parameters) at /home/mhigor/.julia/packages/BenchmarkTools/eCEpo/src/execution.jl:399",
      " [8] #invokelatest#1 at ./essentials.jl:697 [inlined]",
      " [9] invokelatest at ./essentials.jl:696 [inlined]",
      " [10] #run_result#37 at /home/mhigor/.julia/packages/BenchmarkTools/eCEpo/src/execution.jl:32 [inlined]",
      " [11] run_result at /home/mhigor/.julia/packages/BenchmarkTools/eCEpo/src/execution.jl:32 [inlined]",
      " [12] #run#40(::Nothing, ::Float64, ::Float64, ::Base.Iterators.Pairs{Union{},Union{},Tuple{},NamedTuple{(),Tuple{}}}, ::Function, ::BenchmarkTools.Benchmark{Symbol(\"##benchmark#439\")}, ::BenchmarkTools.Parameters) at /home/mhigor/.julia/packages/BenchmarkTools/eCEpo/src/execution.jl:94",
      " [13] run at /home/mhigor/.julia/packages/BenchmarkTools/eCEpo/src/execution.jl:94 [inlined] (repeats 2 times)",
      " [14] top-level scope at In[5]:2"
     ]
    }
   ],
   "source": [
    "b = @benchmarkable netx.fast_fibration($g)\n",
    "res = minimum(run(b))\n",
    "return"
   ]
  },
  {
   "cell_type": "code",
   "execution_count": null,
   "metadata": {},
   "outputs": [],
   "source": []
  }
 ],
 "metadata": {
  "kernelspec": {
   "display_name": "Julia 1.5.2",
   "language": "julia",
   "name": "julia-1.5"
  },
  "language_info": {
   "file_extension": ".jl",
   "mimetype": "application/julia",
   "name": "julia",
   "version": "1.5.2"
  },
  "toc": {
   "base_numbering": 1,
   "nav_menu": {},
   "number_sections": true,
   "sideBar": true,
   "skip_h1_title": false,
   "title_cell": "Table of Contents",
   "title_sidebar": "Contents",
   "toc_cell": false,
   "toc_position": {},
   "toc_section_display": true,
   "toc_window_display": false
  },
  "varInspector": {
   "cols": {
    "lenName": 16,
    "lenType": 16,
    "lenVar": 40
   },
   "kernels_config": {
    "python": {
     "delete_cmd_postfix": "",
     "delete_cmd_prefix": "del ",
     "library": "var_list.py",
     "varRefreshCmd": "print(var_dic_list())"
    },
    "r": {
     "delete_cmd_postfix": ") ",
     "delete_cmd_prefix": "rm(",
     "library": "var_list.r",
     "varRefreshCmd": "cat(var_dic_list()) "
    }
   },
   "types_to_exclude": [
    "module",
    "function",
    "builtin_function_or_method",
    "instance",
    "_Feature"
   ],
   "window_display": false
  }
 },
 "nbformat": 4,
 "nbformat_minor": 4
}
