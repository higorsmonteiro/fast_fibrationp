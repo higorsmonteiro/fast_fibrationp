{
 "cells": [
  {
   "cell_type": "markdown",
   "metadata": {},
   "source": [
    "# Compare runtime"
   ]
  },
  {
   "cell_type": "code",
   "execution_count": 1,
   "metadata": {},
   "outputs": [
    {
     "name": "stderr",
     "output_type": "stream",
     "text": [
      "┌ Info: Precompiling netx [top-level]\n",
      "└ @ Base loading.jl:1278\n"
     ]
    },
    {
     "data": {
      "text/plain": [
       "do_measure"
      ]
     },
     "execution_count": 1,
     "metadata": {},
     "output_type": "execute_result"
    }
   ],
   "source": [
    "push!(LOAD_PATH, \"../\"); using netx\n",
    "using BenchmarkTools\n",
    "include(\"../benchmarking.jl\")"
   ]
  },
  {
   "cell_type": "markdown",
   "metadata": {},
   "source": [
    "## Path to data"
   ]
  },
  {
   "cell_type": "code",
   "execution_count": 3,
   "metadata": {},
   "outputs": [],
   "source": [
    "path_to = \"../ER/\"\n",
    "prefix = \"mbc\"\n",
    "return"
   ]
  },
  {
   "cell_type": "code",
   "execution_count": 6,
   "metadata": {},
   "outputs": [
    {
     "name": "stdout",
     "output_type": "stream",
     "text": [
      "Size 512\n",
      "mean degree = 1.0\n",
      "1 2 \n",
      "mean degree = 2.0\n",
      "1 2 \n",
      "mean degree = 4.0\n",
      "1 2 \n",
      "mean degree = 8.0\n",
      "1 2 \n",
      "Size 512\n",
      "mean degree = 1.0\n",
      "1 2 \n",
      "mean degree = 2.0\n",
      "1 2 \n",
      "mean degree = 4.0\n",
      "1 2 \n",
      "mean degree = 8.0\n",
      "1 2 \n",
      "Size 512\n",
      "mean degree = 1.0\n",
      "1 2 \n",
      "mean degree = 2.0\n",
      "1 2 \n",
      "mean degree = 4.0\n",
      "1 2 \n",
      "mean degree = 8.0\n",
      "1 2 \n",
      "Size 512\n",
      "mean degree = 1.0\n",
      "1 2 \n",
      "mean degree = 2.0\n",
      "1 2 \n",
      "mean degree = 4.0\n",
      "1 2 \n",
      "mean degree = 8.0\n",
      "1 2 \n"
     ]
    }
   ],
   "source": [
    "do_measure(path_to, 2, prefix)"
   ]
  },
  {
   "cell_type": "code",
   "execution_count": 5,
   "metadata": {},
   "outputs": [
    {
     "data": {
      "text/plain": [
       "512-element Array{netx.Fiber,1}:\n",
       " netx.Fiber(1, 1, 0, Int64[], [177], Dict{Int64,Int64}())\n",
       " netx.Fiber(2, 1, 0, Int64[], [286], Dict{Int64,Int64}())\n",
       " netx.Fiber(3, 1, 0, Int64[], [154], Dict{Int64,Int64}())\n",
       " netx.Fiber(4, 1, 0, Int64[], [259], Dict{Int64,Int64}())\n",
       " netx.Fiber(5, 1, 0, Int64[], [284], Dict{Int64,Int64}())\n",
       " netx.Fiber(6, 1, 0, Int64[], [82], Dict{Int64,Int64}())\n",
       " netx.Fiber(7, 1, 0, Int64[], [101], Dict{Int64,Int64}())\n",
       " netx.Fiber(8, 1, 0, Int64[], [376], Dict{Int64,Int64}())\n",
       " netx.Fiber(9, 1, 0, Int64[], [467], Dict{Int64,Int64}())\n",
       " netx.Fiber(10, 1, 0, Int64[], [157], Dict{Int64,Int64}())\n",
       " netx.Fiber(11, 1, 0, Int64[], [233], Dict{Int64,Int64}())\n",
       " netx.Fiber(12, 1, 0, Int64[], [353], Dict{Int64,Int64}())\n",
       " netx.Fiber(13, 1, 0, Int64[], [7], Dict{Int64,Int64}())\n",
       " ⋮\n",
       " netx.Fiber(501, 1, 0, Int64[], [263], Dict{Int64,Int64}())\n",
       " netx.Fiber(502, 1, 0, Int64[], [111], Dict{Int64,Int64}())\n",
       " netx.Fiber(503, 1, 0, Int64[], [287], Dict{Int64,Int64}())\n",
       " netx.Fiber(504, 1, 0, Int64[], [40], Dict{Int64,Int64}())\n",
       " netx.Fiber(505, 1, 0, Int64[], [239], Dict{Int64,Int64}())\n",
       " netx.Fiber(506, 1, 0, Int64[], [93], Dict{Int64,Int64}())\n",
       " netx.Fiber(507, 1, 0, Int64[], [76], Dict{Int64,Int64}())\n",
       " netx.Fiber(508, 1, 0, Int64[], [167], Dict{Int64,Int64}())\n",
       " netx.Fiber(509, 1, 0, Int64[], [106], Dict{Int64,Int64}())\n",
       " netx.Fiber(510, 1, 0, Int64[], [455], Dict{Int64,Int64}())\n",
       " netx.Fiber(511, 1, 0, Int64[], [151], Dict{Int64,Int64}())\n",
       " netx.Fiber(512, 1, 0, Int64[], [418], Dict{Int64,Int64}())"
      ]
     },
     "execution_count": 5,
     "metadata": {},
     "output_type": "execute_result"
    }
   ],
   "source": []
  },
  {
   "cell_type": "code",
   "execution_count": 5,
   "metadata": {},
   "outputs": [
    {
     "data": {
      "text/plain": [
       "(2, 3)"
      ]
     },
     "execution_count": 5,
     "metadata": {},
     "output_type": "execute_result"
    }
   ],
   "source": [
    "size(zeros((2,3)))"
   ]
  },
  {
   "cell_type": "code",
   "execution_count": null,
   "metadata": {},
   "outputs": [],
   "source": []
  }
 ],
 "metadata": {
  "kernelspec": {
   "display_name": "Julia 1.5.2",
   "language": "julia",
   "name": "julia-1.5"
  },
  "language_info": {
   "file_extension": ".jl",
   "mimetype": "application/julia",
   "name": "julia",
   "version": "1.5.2"
  },
  "toc": {
   "base_numbering": 1,
   "nav_menu": {},
   "number_sections": true,
   "sideBar": true,
   "skip_h1_title": false,
   "title_cell": "Table of Contents",
   "title_sidebar": "Contents",
   "toc_cell": false,
   "toc_position": {},
   "toc_section_display": true,
   "toc_window_display": false
  },
  "varInspector": {
   "cols": {
    "lenName": 16,
    "lenType": 16,
    "lenVar": 40
   },
   "kernels_config": {
    "python": {
     "delete_cmd_postfix": "",
     "delete_cmd_prefix": "del ",
     "library": "var_list.py",
     "varRefreshCmd": "print(var_dic_list())"
    },
    "r": {
     "delete_cmd_postfix": ") ",
     "delete_cmd_prefix": "rm(",
     "library": "var_list.r",
     "varRefreshCmd": "cat(var_dic_list()) "
    }
   },
   "types_to_exclude": [
    "module",
    "function",
    "builtin_function_or_method",
    "instance",
    "_Feature"
   ],
   "window_display": false
  }
 },
 "nbformat": 4,
 "nbformat_minor": 4
}
