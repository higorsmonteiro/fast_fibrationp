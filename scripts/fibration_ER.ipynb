{
 "cells": [
  {
   "cell_type": "markdown",
   "metadata": {},
   "source": [
    "# Compare runtime"
   ]
  },
  {
   "cell_type": "code",
   "execution_count": 1,
   "metadata": {},
   "outputs": [
    {
     "name": "stderr",
     "output_type": "stream",
     "text": [
      "┌ Info: Precompiling netx [top-level]\n",
      "└ @ Base loading.jl:1278\n"
     ]
    }
   ],
   "source": [
    "#include(\"../netx.jl\")\n",
    "push!(LOAD_PATH, \"../\"); using netx\n",
    "#import .netx\n",
    "\n",
    "using BenchmarkTools"
   ]
  },
  {
   "cell_type": "markdown",
   "metadata": {},
   "source": [
    "## Path to data"
   ]
  },
  {
   "cell_type": "code",
   "execution_count": 2,
   "metadata": {},
   "outputs": [
    {
     "data": {
      "text/plain": [
       "4-element Array{Int64,1}:\n",
       " 1\n",
       " 2\n",
       " 4\n",
       " 8"
      ]
     },
     "execution_count": 2,
     "metadata": {},
     "output_type": "execute_result"
    }
   ],
   "source": [
    "path_to = \"../ER/\"\n",
    "folders = String[\"TYPE1\", \"TYPE2\", \"TYPE4\", \"TYPE8\"]\n",
    "\n",
    "sizes = Int[512, 1024, 2048, 4096, 8192, 16384]\n",
    "k_mean = Float64[1.0, 2.0, 4.0, 8.0]\n",
    "ntype = Int[1, 2, 4, 8]"
   ]
  },
  {
   "cell_type": "code",
   "execution_count": 58,
   "metadata": {},
   "outputs": [
    {
     "data": {
      "text/plain": [
       "process_samples (generic function with 1 method)"
      ]
     },
     "execution_count": 58,
     "metadata": {},
     "output_type": "execute_result"
    }
   ],
   "source": [
    "function process_network(N::Int, k::Float64, ne_type::Int, samp::Int)\n",
    "    fname = \"$(path_to)TYPE$(ntype[ne_type])/ER_N$(N)_k$(k)_samp$(samp).txt\"\n",
    "    edges, eprops = netx.process_edgefile(fname, true)\n",
    "    fmt_eprops = netx.process_eprops(eprops, [\"regulation\"])\n",
    "    edgetype_prop = parse.(Int, fmt_eprops[\"regulation\"])\n",
    "    \n",
    "    # -- Create network and set the edgetypes as an edge property --\n",
    "    g = netx.graph_from_edgelist(edges, true)\n",
    "    netx.set_edges_properties(\"edgetype\", edgetype_prop, g)\n",
    "    return g\n",
    "end\n",
    "\n",
    "function process_samples(N::Int, ne_type::Int)\n",
    "    nsamp = 30\n",
    "    runtime = [ Float64[0.0 for j in 1:nsamp] for i in 1:4 ]\n",
    "    mem = [ Float64[0.0 for j in 1:nsamp] for i in 1:4 ]\n",
    "    for (j, k_mean) in enumerate(Float64[1.0, 2.0, 4.0, 8.0])\n",
    "        print(\"mean degree = $(k_mean)\\n\")\n",
    "        for i in 1:nsamp\n",
    "            print(\"$i \")\n",
    "            g = process_network(N, k_mean, ne_type, i)\n",
    "            b = @benchmarkable netx.fast_fibration($g)\n",
    "            tune!(b)\n",
    "            res = minimum(run(b))\n",
    "            runtime[j][i] = res.time*1e-9\n",
    "            mem[j][i] = res.memory*1e-6\n",
    "        end\n",
    "        print(\"\\n\")\n",
    "    end\n",
    "    return runtime, mem\n",
    "end"
   ]
  },
  {
   "cell_type": "code",
   "execution_count": 60,
   "metadata": {},
   "outputs": [
    {
     "name": "stdout",
     "output_type": "stream",
     "text": [
      "mean degree = 1.0\n",
      "1 2 3 4 5 6 7 8 9 10 11 12 13 14 15 16 17 18 19 20 21 22 23 24 25 26 27 28 29 30 \n",
      "mean degree = 2.0\n",
      "1 2 3 4 5 6 7 8 9 10 11 12 13 14 15 16 17 18 19 20 21 22 23 24 25 26 27 28 29 30 \n",
      "mean degree = 4.0\n",
      "1 2 3 4 5 6 7 8 9 10 11 12 13 14 15 16 17 18 19 20 21 22 23 24 25 26 27 28 29 30 \n",
      "mean degree = 8.0\n",
      "1 2 3 4 5 6 7 8 9 10 11 12 13 14 15 16 17 18 19 20 21 22 23 24 25 26 27 28 29 30 \n"
     ]
    },
    {
     "data": {
      "text/plain": [
       "([[0.007714083, 0.008439586, 0.007638864, 0.008524784, 0.007376594, 0.007666862000000001, 0.008277083000000001, 0.008076110000000001, 0.008128842, 0.007688877  …  0.007558694, 0.008095467, 0.007763511000000001, 0.008160198, 0.007501067, 0.007821875, 0.008200693, 0.007904227, 0.007447726000000001, 0.008017392], [0.013562691, 0.014427348000000001, 0.014016383, 0.013699132000000001, 0.013970569, 0.013636294, 0.011959956, 0.013035485000000001, 0.013347310000000001, 0.013259777  …  0.013178426, 0.013429670000000001, 0.010246806, 0.014006123, 0.013760064, 0.013500266, 0.014347449000000002, 0.014223305, 0.013818078000000001, 0.013843194000000001], [0.015227076, 0.018624777000000002, 0.018838658, 0.017385897, 0.017851079000000002, 0.018284179, 0.018756563, 0.017659661, 0.018674237, 0.016206774  …  0.015608504, 0.015910404, 0.017538492000000003, 0.016863796, 0.016920098, 0.019134234, 0.018358359, 0.01993967, 0.017176073, 0.017549600000000002], [0.014625581, 0.021912412000000003, 0.014513861000000001, 0.014384152, 0.025121529, 0.014541464, 0.014583995, 0.014169307, 0.014544529, 0.014530672000000001  …  0.014306296000000001, 0.014350928, 0.014325832, 0.014481749, 0.014439325000000001, 0.014582695000000001, 0.025082924000000003, 0.014347970000000002, 0.014320872, 0.014597469]], [[11.584335999999999, 12.701768, 11.652552, 12.746224, 11.231568, 11.863368, 12.80384, 12.505896, 12.459208, 12.122264  …  11.794888, 12.576127999999999, 11.711008, 12.604688, 11.390608, 12.070751999999999, 12.598744, 12.171719999999999, 11.267688, 12.296071999999999], [19.287, 20.151408, 19.825072, 19.827312, 20.241775999999998, 19.790976, 17.551503999999998, 19.013856, 19.43424, 19.250624  …  19.1072, 19.57752, 15.687368, 20.303072, 19.54908, 19.636855999999998, 20.768967999999997, 20.618, 20.220464, 19.700951999999997], [22.80344, 26.571392, 27.137, 25.063632, 25.613695999999997, 25.674751999999998, 26.597455999999998, 25.527607999999997, 26.618696, 24.13308  …  23.513296, 23.410048, 25.352728, 24.534392, 24.428407999999997, 26.964375999999998, 26.286535999999998, 28.1636, 25.006376, 24.940327999999997], [27.3936, 33.37, 26.831719999999997, 26.902583999999997, 35.385568, 26.712048, 26.813959999999998, 26.004016, 27.10764, 26.72376  …  26.500152, 26.657144, 26.503256, 26.793736, 26.933328, 26.832824, 35.974584, 26.958688, 26.55012, 26.870535999999998]])"
      ]
     },
     "execution_count": 60,
     "metadata": {},
     "output_type": "execute_result"
    }
   ],
   "source": [
    "N512_T1_time, N512_T1_memory = process_samples(512, 1)\n",
    "N1024_T1_time, N1024_T1_memory = process_samples(1024, 1)\n",
    "N2048_T1_time, N2048_T1_memory = process_samples(2048, 1)\n",
    "N4096_T1_time, N4096_T1_memory = process_samples(4096, 1)\n",
    "N8192_T1_time, N8192_T1_memory = process_samples(8192, 1)\n",
    "N16384_T1_time, N16384_T1_memory = process_samples(16384, 1)\n",
    "N32768_T1_time, N32768_T1_memory = process_samples(32768, 1)\n",
    "return"
   ]
  },
  {
   "cell_type": "code",
   "execution_count": 65,
   "metadata": {},
   "outputs": [
    {
     "data": {
      "text/plain": [
       "30-element Array{Float64,1}:\n",
       " 27.3936\n",
       " 33.37\n",
       " 26.831719999999997\n",
       " 26.902583999999997\n",
       " 35.385568\n",
       " 26.712048\n",
       " 26.813959999999998\n",
       " 26.004016\n",
       " 27.10764\n",
       " 26.72376\n",
       " 26.711152\n",
       " 27.37396\n",
       " 26.957687999999997\n",
       "  ⋮\n",
       " 26.870127999999998\n",
       " 34.674448\n",
       " 26.500152\n",
       " 26.657144\n",
       " 26.503256\n",
       " 26.793736\n",
       " 26.933328\n",
       " 26.832824\n",
       " 35.974584\n",
       " 26.958688\n",
       " 26.55012\n",
       " 26.870535999999998"
      ]
     },
     "execution_count": 65,
     "metadata": {},
     "output_type": "execute_result"
    }
   ],
   "source": [
    "N512_T1_memory[4]"
   ]
  },
  {
   "cell_type": "code",
   "execution_count": 35,
   "metadata": {},
   "outputs": [
    {
     "data": {
      "text/plain": [
       "BenchmarkTools.Trial: \n",
       "  memory estimate:  316.64 MiB\n",
       "  allocs estimate:  5334104\n",
       "  --------------\n",
       "  minimum time:     317.044 ms (20.48% GC)\n",
       "  median time:      422.606 ms (19.50% GC)\n",
       "  mean time:        412.871 ms (20.48% GC)\n",
       "  maximum time:     457.473 ms (25.60% GC)\n",
       "  --------------\n",
       "  samples:          13\n",
       "  evals/sample:     1"
      ]
     },
     "execution_count": 35,
     "metadata": {},
     "output_type": "execute_result"
    }
   ],
   "source": [
    "b = @benchmarkable netx.fast_fibration($g);\n",
    "tune!(b);\n",
    "out = run(b)"
   ]
  },
  {
   "cell_type": "code",
   "execution_count": 40,
   "metadata": {},
   "outputs": [
    {
     "name": "stdout",
     "output_type": "stream",
     "text": [
      "search: \u001b[0m\u001b[1mo\u001b[22m\u001b[0m\u001b[1mu\u001b[22m\u001b[0m\u001b[1mt\u001b[22m \u001b[0m\u001b[1mO\u001b[22m\u001b[0m\u001b[1mu\u001b[22m\u001b[0m\u001b[1mt\u001b[22m \u001b[0m\u001b[1mO\u001b[22m\u001b[0m\u001b[1mu\u001b[22m\u001b[0m\u001b[1mt\u001b[22mOfMemoryError std\u001b[0m\u001b[1mo\u001b[22m\u001b[0m\u001b[1mu\u001b[22m\u001b[0m\u001b[1mt\u001b[22m c\u001b[0m\u001b[1mo\u001b[22m\u001b[0m\u001b[1mu\u001b[22mn\u001b[0m\u001b[1mt\u001b[22m c\u001b[0m\u001b[1mo\u001b[22m\u001b[0m\u001b[1mu\u001b[22mn\u001b[0m\u001b[1mt\u001b[22m! c\u001b[0m\u001b[1mo\u001b[22m\u001b[0m\u001b[1mu\u001b[22mn\u001b[0m\u001b[1mt\u001b[22mlines c\u001b[0m\u001b[1mo\u001b[22m\u001b[0m\u001b[1mu\u001b[22mn\u001b[0m\u001b[1mt\u001b[22m_ones\n",
      "\n"
     ]
    },
    {
     "data": {
      "text/latex": [
       "No documentation found.\n",
       "\n",
       "\\texttt{out} is of type \\texttt{BenchmarkTools.Trial}.\n",
       "\n",
       "\\section{Summary}\n",
       "\\begin{verbatim}\n",
       "mutable struct BenchmarkTools.Trial <: Any\n",
       "\\end{verbatim}\n",
       "\\section{Fields}\n",
       "\\begin{verbatim}\n",
       "params  :: BenchmarkTools.Parameters\n",
       "times   :: Array{Float64,1}\n",
       "gctimes :: Array{Float64,1}\n",
       "memory  :: Int64\n",
       "allocs  :: Int64\n",
       "\\end{verbatim}\n"
      ],
      "text/markdown": [
       "No documentation found.\n",
       "\n",
       "`out` is of type `BenchmarkTools.Trial`.\n",
       "\n",
       "# Summary\n",
       "\n",
       "```\n",
       "mutable struct BenchmarkTools.Trial <: Any\n",
       "```\n",
       "\n",
       "# Fields\n",
       "\n",
       "```\n",
       "params  :: BenchmarkTools.Parameters\n",
       "times   :: Array{Float64,1}\n",
       "gctimes :: Array{Float64,1}\n",
       "memory  :: Int64\n",
       "allocs  :: Int64\n",
       "```\n"
      ],
      "text/plain": [
       "  No documentation found.\n",
       "\n",
       "  \u001b[36mout\u001b[39m is of type \u001b[36mBenchmarkTools.Trial\u001b[39m.\n",
       "\n",
       "\u001b[1m  Summary\u001b[22m\n",
       "\u001b[1m  ≡≡≡≡≡≡≡≡≡\u001b[22m\n",
       "\n",
       "\u001b[36m  mutable struct BenchmarkTools.Trial <: Any\u001b[39m\n",
       "\n",
       "\u001b[1m  Fields\u001b[22m\n",
       "\u001b[1m  ≡≡≡≡≡≡≡≡\u001b[22m\n",
       "\n",
       "\u001b[36m  params  :: BenchmarkTools.Parameters\u001b[39m\n",
       "\u001b[36m  times   :: Array{Float64,1}\u001b[39m\n",
       "\u001b[36m  gctimes :: Array{Float64,1}\u001b[39m\n",
       "\u001b[36m  memory  :: Int64\u001b[39m\n",
       "\u001b[36m  allocs  :: Int64\u001b[39m"
      ]
     },
     "execution_count": 40,
     "metadata": {},
     "output_type": "execute_result"
    }
   ],
   "source": [
    "?out"
   ]
  },
  {
   "cell_type": "code",
   "execution_count": 41,
   "metadata": {},
   "outputs": [
    {
     "data": {
      "text/plain": [
       "13-element Array{Float64,1}:\n",
       " 6.4929507e7\n",
       " 6.5049579e7\n",
       " 7.7447115e7\n",
       " 7.3743377e7\n",
       " 7.8182339e7\n",
       " 8.2424351e7\n",
       " 7.983025e7\n",
       " 9.0463789e7\n",
       " 9.0254223e7\n",
       " 9.9398462e7\n",
       " 9.4692771e7\n",
       " 8.5598788e7\n",
       " 1.17096382e8"
      ]
     },
     "execution_count": 41,
     "metadata": {},
     "output_type": "execute_result"
    }
   ],
   "source": [
    "out.gctimes"
   ]
  },
  {
   "cell_type": "code",
   "execution_count": 56,
   "metadata": {},
   "outputs": [
    {
     "data": {
      "text/plain": [
       "BenchmarkTools.TrialEstimate: \n",
       "  time:             317.044 ms\n",
       "  gctime:           64.930 ms (20.48%)\n",
       "  memory:           316.64 MiB\n",
       "  allocs:           5334104"
      ]
     },
     "execution_count": 56,
     "metadata": {},
     "output_type": "execute_result"
    }
   ],
   "source": [
    "d = minimum(out)"
   ]
  },
  {
   "cell_type": "code",
   "execution_count": 54,
   "metadata": {},
   "outputs": [
    {
     "data": {
      "text/plain": [
       "332016424"
      ]
     },
     "execution_count": 54,
     "metadata": {},
     "output_type": "execute_result"
    }
   ],
   "source": [
    "t = (d.memory)"
   ]
  },
  {
   "cell_type": "code",
   "execution_count": 55,
   "metadata": {},
   "outputs": [
    {
     "data": {
      "text/plain": [
       "332.016424"
      ]
     },
     "execution_count": 55,
     "metadata": {},
     "output_type": "execute_result"
    }
   ],
   "source": [
    "t*1e-6"
   ]
  },
  {
   "cell_type": "code",
   "execution_count": null,
   "metadata": {},
   "outputs": [],
   "source": []
  }
 ],
 "metadata": {
  "kernelspec": {
   "display_name": "Julia 1.5.2",
   "language": "julia",
   "name": "julia-1.5"
  },
  "language_info": {
   "file_extension": ".jl",
   "mimetype": "application/julia",
   "name": "julia",
   "version": "1.5.2"
  },
  "toc": {
   "base_numbering": 1,
   "nav_menu": {},
   "number_sections": true,
   "sideBar": true,
   "skip_h1_title": false,
   "title_cell": "Table of Contents",
   "title_sidebar": "Contents",
   "toc_cell": false,
   "toc_position": {},
   "toc_section_display": true,
   "toc_window_display": false
  },
  "varInspector": {
   "cols": {
    "lenName": 16,
    "lenType": 16,
    "lenVar": 40
   },
   "kernels_config": {
    "python": {
     "delete_cmd_postfix": "",
     "delete_cmd_prefix": "del ",
     "library": "var_list.py",
     "varRefreshCmd": "print(var_dic_list())"
    },
    "r": {
     "delete_cmd_postfix": ") ",
     "delete_cmd_prefix": "rm(",
     "library": "var_list.r",
     "varRefreshCmd": "cat(var_dic_list()) "
    }
   },
   "types_to_exclude": [
    "module",
    "function",
    "builtin_function_or_method",
    "instance",
    "_Feature"
   ],
   "window_display": false
  }
 },
 "nbformat": 4,
 "nbformat_minor": 4
}
