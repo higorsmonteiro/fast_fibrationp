{
 "cells": [
  {
   "cell_type": "markdown",
   "metadata": {},
   "source": [
    "# Compare runtime"
   ]
  },
  {
   "cell_type": "code",
   "execution_count": 1,
   "metadata": {},
   "outputs": [
    {
     "name": "stderr",
     "output_type": "stream",
     "text": [
      "┌ Info: Precompiling netx [top-level]\n",
      "└ @ Base loading.jl:1278\n"
     ]
    }
   ],
   "source": [
    "#include(\"../netx.jl\")\n",
    "push!(LOAD_PATH, \"../\"); using netx\n",
    "#import .netx\n",
    "\n",
    "using BenchmarkTools"
   ]
  },
  {
   "cell_type": "markdown",
   "metadata": {},
   "source": [
    "## Path to data"
   ]
  },
  {
   "cell_type": "code",
   "execution_count": 2,
   "metadata": {},
   "outputs": [
    {
     "data": {
      "text/plain": [
       "4-element Array{Int64,1}:\n",
       " 1\n",
       " 2\n",
       " 4\n",
       " 8"
      ]
     },
     "execution_count": 2,
     "metadata": {},
     "output_type": "execute_result"
    }
   ],
   "source": [
    "path_to = \"../ER/\"\n",
    "folders = String[\"TYPE1\", \"TYPE2\", \"TYPE4\", \"TYPE8\"]\n",
    "\n",
    "sizes = Int[512, 1024, 2048, 4096, 8192, 16384]\n",
    "k_mean = Float64[1.0, 2.0, 4.0, 8.0]\n",
    "ntype = Int[1, 2, 4, 8]"
   ]
  },
  {
   "cell_type": "code",
   "execution_count": 3,
   "metadata": {},
   "outputs": [
    {
     "data": {
      "text/plain": [
       "process_samples (generic function with 1 method)"
      ]
     },
     "execution_count": 3,
     "metadata": {},
     "output_type": "execute_result"
    }
   ],
   "source": [
    "function process_network(N::Int, k::Float64, ne_type::Int, samp::Int)\n",
    "    fname = \"$(path_to)TYPE$(ntype[ne_type])/ER_N$(N)_k$(k)_samp$(samp).txt\"\n",
    "    edges, eprops = netx.process_edgefile(fname, true)\n",
    "    fmt_eprops = netx.process_eprops(eprops, [\"regulation\"])\n",
    "    edgetype_prop = parse.(Int, fmt_eprops[\"regulation\"])\n",
    "    \n",
    "    # -- Create network and set the edgetypes as an edge property --\n",
    "    g = netx.graph_from_edgelist(edges, true)\n",
    "    netx.set_edges_properties(\"edgetype\", edgetype_prop, g)\n",
    "    return g\n",
    "end\n",
    "\n",
    "function process_samples(N::Int, ne_type::Int)\n",
    "    nsamp = 30\n",
    "    runtime = [ Float64[0.0 for j in 1:nsamp] for i in 1:4 ]\n",
    "    mem = [ Float64[0.0 for j in 1:nsamp] for i in 1:4 ]\n",
    "    for (j, k_mean) in enumerate(Float64[1.0, 2.0, 4.0, 8.0])\n",
    "        print(\"mean degree = $(k_mean)\\n\")\n",
    "        for i in 1:nsamp\n",
    "            print(\"$i \")\n",
    "            g = process_network(N, k_mean, ne_type, i)\n",
    "            b = @benchmarkable netx.fast_fibration($g)\n",
    "            tune!(b)\n",
    "            res = minimum(run(b))\n",
    "            runtime[j][i] = res.time*1e-9\n",
    "            mem[j][i] = res.memory*1e-6\n",
    "        end\n",
    "        print(\"\\n\")\n",
    "    end\n",
    "    return runtime, mem\n",
    "end"
   ]
  },
  {
   "cell_type": "code",
   "execution_count": 66,
   "metadata": {
    "scrolled": true
   },
   "outputs": [
    {
     "name": "stdout",
     "output_type": "stream",
     "text": [
      "mean degree = 1.0\n",
      "1 2 3 4 5 6 7 8 9 10 11 12 13 14 15 16 17 18 19 20 21 22 23 24 25 26 27 28 29 30 \n",
      "mean degree = 2.0\n",
      "1 2 3 4 5 6 7 8 9 10 11 12 13 14 15 16 17 18 19 20 21 22 23 24 25 26 27 28 29 30 \n",
      "mean degree = 4.0\n",
      "1 2 3 4 5 6 7 8 9 10 11 12 13 14 15 16 17 18 19 20 21 22 23 24 25 26 27 28 29 30 \n",
      "mean degree = 8.0\n",
      "1 2 3 4 5 6 7 8 9 10 11 12 13 14 15 16 17 18 19 20 21 22 23 24 25 26 27 28 29 30 \n",
      "mean degree = 1.0\n",
      "1 2 3 4 5 6 7 8 9 10 11 12 13 14 15 16 17 18 19 20 21 22 23 24 25 26 27 28 29 30 \n",
      "mean degree = 2.0\n",
      "1 2 3 4 5 6 7 8 9 10 11 12 13 14 15 16 17 18 19 20 21 22 23 24 25 26 27 28 29 30 \n",
      "mean degree = 4.0\n",
      "1 2 3 4 5 6 7 8 9 10 11 12 13 14 15 16 17 18 19 20 21 22 23 24 25 26 27 28 29 30 \n",
      "mean degree = 8.0\n",
      "1 2 3 4 5 6 7 8 9 10 11 12 13 14 15 16 17 18 19 20 21 22 23 24 25 26 27 28 29 30 \n",
      "mean degree = 1.0\n",
      "1 2 3 4 5 6 7 8 9 10 11 12 13 14 15 16 17 18 19 20 21 22 23 24 25 26 27 28 29 30 \n",
      "mean degree = 2.0\n",
      "1 2 3 4 5 6 7 8 9 10 11 12 13 14 15 16 17 18 19 20 21 22 23 24 25 26 27 28 29 30 \n",
      "mean degree = 4.0\n",
      "1 2 3 4 5 6 7 8 9 10 11 12 13 14 15 16 17 18 19 20 21 22 23 24 25 26 27 28 29 30 \n",
      "mean degree = 8.0\n",
      "1 2 3 4 5 6 7 8 9 10 11 12 13 14 15 16 17 18 19 20 21 22 23 24 25 26 27 28 29 30 \n",
      "mean degree = 1.0\n",
      "1 2 3 4 5 6 7 8 9 10 11 12 13 14 15 16 17 18 19 20 21 22 23 24 25 26 27 28 29 30 \n",
      "mean degree = 2.0\n",
      "1 2 3 4 5 6 7 8 9 10 11 12 13 14 15 16 17 18 19 20 21 22 23 24 25 26 27 28 29 30 \n",
      "mean degree = 4.0\n",
      "1 2 3 4 5 6 7 8 9 10 11 12 13 14 15 16 17 18 19 20 21 22 23 24 25 26 27 28 29 30 \n",
      "mean degree = 8.0\n",
      "1 2 3 4 5 6 7 8 9 10 11 12 13 14 15 16 17 18 19 20 21 22 23 24 25 26 27 28 29 30 \n",
      "mean degree = 1.0\n",
      "1 2 3 4 5 6 7 8 9 10 11 12 13 14 15 16 17 18 19 20 21 22 23 24 25 26 27 28 29 30 \n",
      "mean degree = 2.0\n",
      "1 2 3 4 5 6 7 8 9 10 11 12 13 14 15 16 17 18 19 20 21 22 23 24 25 26 27 28 29 30 \n",
      "mean degree = 4.0\n",
      "1 2 3 4 5 6 7 8 9 10 11 12 13 14 15 16 17 18 19 20 21 22 23 24 25 26 27 28 29 30 \n",
      "mean degree = 8.0\n",
      "1 2 3 4 5 6 7 8 9 10 11 12 13 14 15 16 17 18 19 20 21 22 23 24 25 26 27 28 29 30 \n",
      "mean degree = 1.0\n",
      "1 2 3 4 5 6 7 8 9 10 11 12 13 14 15 16 17 18 19 20 21 22 23 24 25 26 27 28 29 30 \n",
      "mean degree = 2.0\n",
      "1 2 3 4 5 6 7 8 9 10 11 12 13 14 15 16 17 18 19 20 21 22 23 24 25 26 27 28 29 30 \n",
      "mean degree = 4.0\n",
      "1 2 3 4 5 6 7 8 9 10 11 12 13 14 15 16 17 18 19 20 21 22 23 24 25 26 27 28 29 30 \n",
      "mean degree = 8.0\n",
      "1 "
     ]
    },
    {
     "ename": "LoadError",
     "evalue": "StackOverflowError:",
     "output_type": "error",
     "traceback": [
      "StackOverflowError:",
      "",
      "Stacktrace:",
      " [1] Array at ./boot.jl:406 [inlined]",
      " [2] Array at ./boot.jl:415 [inlined]",
      " [3] zeros at ./array.jl:525 [inlined]",
      " [4] zeros at ./array.jl:521 [inlined]",
      " [5] Dict{Int64,Nothing}() at ./dict.jl:90",
      " [6] Set at ./set.jl:6 [inlined]",
      " [7] Set at ./set.jl:10 [inlined]",
      " [8] _Set at ./set.jl:23 [inlined]",
      " [9] Set at ./set.jl:21 [inlined]",
      " [10] get_out_neighbors(::Int64, ::netx.Graph) at /home/higorsmonteiro/projetos/mynet_jl/src/base_net.jl:346",
      " [11] dfs_tarjan(::Int64, ::netx.Graph, ::Array{Int64,1}, ::Array{Int64,1}, ::Array{Int64,1}, ::Array{Bool,1}, ::Int64, ::Int64) at /home/higorsmonteiro/projetos/mynet_jl/src/topology.jl:65",
      " [12] dfs_tarjan(::Int64, ::netx.Graph, ::Array{Int64,1}, ::Array{Int64,1}, ::Array{Int64,1}, ::Array{Bool,1}, ::Int64, ::Int64) at /home/higorsmonteiro/projetos/mynet_jl/src/topology.jl:67 (repeats 12974 times)",
      " [13] find_strong at /home/higorsmonteiro/projetos/mynet_jl/src/topology.jl:48 [inlined]",
      " [14] initialize(::netx.Graph) at /home/higorsmonteiro/projetos/mynet_jl/src/fibration_functions.jl:15",
      " [15] fast_fibration(::netx.Graph, ::String) at /home/higorsmonteiro/projetos/mynet_jl/src/fibration_functions.jl:218",
      " [16] fast_fibration at /home/higorsmonteiro/projetos/mynet_jl/src/fibration_functions.jl:210 [inlined]",
      " [17] ##core#3533(::netx.Graph) at /home/higorsmonteiro/.julia/packages/BenchmarkTools/eCEpo/src/execution.jl:371",
      " [18] ##sample#3534(::BenchmarkTools.Parameters) at /home/higorsmonteiro/.julia/packages/BenchmarkTools/eCEpo/src/execution.jl:377",
      " [19] _run(::BenchmarkTools.Benchmark{Symbol(\"##benchmark#3532\")}, ::BenchmarkTools.Parameters; verbose::Bool, pad::String, kwargs::Base.Iterators.Pairs{Symbol,Integer,NTuple{4,Symbol},NamedTuple{(:samples, :evals, :gctrial, :gcsample),Tuple{Int64,Int64,Bool,Bool}}}) at /home/higorsmonteiro/.julia/packages/BenchmarkTools/eCEpo/src/execution.jl:405",
      " [20] (::Base.var\"#inner#2\"{Base.Iterators.Pairs{Symbol,Integer,NTuple{5,Symbol},NamedTuple{(:verbose, :samples, :evals, :gctrial, :gcsample),Tuple{Bool,Int64,Int64,Bool,Bool}}},typeof(BenchmarkTools._run),Tuple{BenchmarkTools.Benchmark{Symbol(\"##benchmark#3532\")},BenchmarkTools.Parameters}})() at ./essentials.jl:713",
      " [21] #invokelatest#1 at ./essentials.jl:714 [inlined]",
      " [22] #run_result#37 at /home/higorsmonteiro/.julia/packages/BenchmarkTools/eCEpo/src/execution.jl:32 [inlined]",
      " [23] run(::BenchmarkTools.Benchmark{Symbol(\"##benchmark#3532\")}, ::BenchmarkTools.Parameters; progressid::Nothing, nleaves::Float64, ndone::Float64, kwargs::Base.Iterators.Pairs{Symbol,Integer,NTuple{5,Symbol},NamedTuple{(:verbose, :samples, :evals, :gctrial, :gcsample),Tuple{Bool,Int64,Int64,Bool,Bool}}}) at /home/higorsmonteiro/.julia/packages/BenchmarkTools/eCEpo/src/execution.jl:94",
      " [24] #warmup#45 at /home/higorsmonteiro/.julia/packages/BenchmarkTools/eCEpo/src/execution.jl:141 [inlined]",
      " [25] tune!(::BenchmarkTools.Benchmark{Symbol(\"##benchmark#3532\")}, ::BenchmarkTools.Parameters; progressid::Nothing, nleaves::Float64, ndone::Float64, verbose::Bool, pad::String, kwargs::Base.Iterators.Pairs{Union{},Union{},Tuple{},NamedTuple{(),Tuple{}}}) at /home/higorsmonteiro/.julia/packages/BenchmarkTools/eCEpo/src/execution.jl:208",
      " [26] tune! at /home/higorsmonteiro/.julia/packages/BenchmarkTools/eCEpo/src/execution.jl:208 [inlined] (repeats 2 times)",
      " [27] process_samples(::Int64, ::Int64) at ./In[58]:23",
      " [28] top-level scope at In[66]:6",
      " [29] include_string(::Function, ::Module, ::String, ::String) at ./loading.jl:1091"
     ]
    }
   ],
   "source": [
    "N512_T1_time, N512_T1_memory = process_samples(512, 1)\n",
    "N1024_T1_time, N1024_T1_memory = process_samples(1024, 1)\n",
    "N2048_T1_time, N2048_T1_memory = process_samples(2048, 1)\n",
    "N4096_T1_time, N4096_T1_memory = process_samples(4096, 1)\n",
    "N8192_T1_time, N8192_T1_memory = process_samples(8192, 1)\n",
    "N16384_T1_time, N16384_T1_memory = process_samples(16384, 1)\n",
    "N32768_T1_time, N32768_T1_memory = process_samples(32768, 1)\n",
    "return"
   ]
  },
  {
   "cell_type": "code",
   "execution_count": 71,
   "metadata": {},
   "outputs": [
    {
     "data": {
      "text/plain": [
       "gen_mean (generic function with 2 methods)"
      ]
     },
     "execution_count": 71,
     "metadata": {},
     "output_type": "execute_result"
    }
   ],
   "source": [
    "function save_perfomance(name::String, sizes::Array{Int}, \n",
    "                         arr_time::Array{Array{Float64}}, arr_space::Array{Array{Float64}})\n",
    "    open(\"$(name).txt\", \"w\") do f\n",
    "        write(f, \"N\\tk1_time\\tk1_space\\tk2_time\\tk2_space\\tk4_time\\tk4_space\\tk8_time\\tk8_space\\n\")\n",
    "        for (i, N) in sizes\n",
    "            write(f, \"$(N)\")\n",
    "            for j in 1:4\n",
    "                write(f, \"\\t$(arr_time[i][j])\\t$(arr_space[i][j])\")\n",
    "            end\n",
    "            write(f,\"\\n\")\n",
    "        end\n",
    "    end\n",
    "end\n",
    "\n",
    "function gen_mean(arr_time::Array{Array{Float64,1},1}, arr_space::Array{Array{Float64,1},1})\n",
    "    new_time = [ 0.0 for j in 1:4 ]\n",
    "    new_space = [ 0.0 for j in 1:4 ]\n",
    "    for j in 1:4\n",
    "        new_time[j] = mean(arr_time[j])\n",
    "        new_space[j] = mean(arr_space[j])\n",
    "    end\n",
    "    return new_time, new_space\n",
    "end"
   ]
  },
  {
   "cell_type": "code",
   "execution_count": 74,
   "metadata": {},
   "outputs": [
    {
     "data": {
      "text/plain": [
       "5-element Array{Array{Float64,1},1}:\n",
       " [12.108447199999999, 19.4991664, 24.403565866666664, 28.112928266666664]\n",
       " [40.381243733333335, 68.79199093333334, 71.20931146666668, 73.70553866666665]\n",
       " [148.04283706666672, 263.7217592, 285.0775285333333, 190.4514957333333]\n",
       " [566.4277525333333, 1032.6660141333332, 1109.7759226666665, 555.1544013333332]\n",
       " [2231.9821703999996, 2974.8444264000004, 4371.447904533333, 2561.7676824000005]"
      ]
     },
     "execution_count": 74,
     "metadata": {},
     "output_type": "execute_result"
    }
   ],
   "source": [
    "new512_time, new512_space = gen_mean(N512_T1_time, N512_T1_memory)\n",
    "new1024_time, new1024_space = gen_mean(N1024_T1_time, N1024_T1_memory)\n",
    "new2048_time, new2048_space = gen_mean(N2048_T1_time, N2048_T1_memory)\n",
    "new4096_time, new4096_space = gen_mean(N4096_T1_time, N4096_T1_memory)\n",
    "new8192_time, new8192_space = gen_mean(N8192_T1_time, N8192_T1_memory)\n",
    "#new16384_time, new16384_space = gen_mean(N16384_T1_time, N16384_T1_memory)\n",
    "#new32768_time, new32768_space = gen_mean(N32768_T1_time, N32768_T1_memory)\n",
    "\n",
    "sizes = Int[512, 1024, 2048, 4096, 8192, 16384, 32768]\n",
    "arr_time = [new512_time,new1024_time,new2048_time,new4096_time,\n",
    "            new8192_time]\n",
    "arr_space = [new512_space,new1024_space,new2048_space,new4096_space,\n",
    "            new8192_space]"
   ]
  },
  {
   "cell_type": "code",
   "execution_count": 76,
   "metadata": {},
   "outputs": [
    {
     "data": {
      "text/plain": [
       "5-element Array{Array{Float64,1},1}:\n",
       " [0.008073264900000003, 0.0138916369, 0.016788516099999998, 0.015836507133333337]\n",
       " [0.029403402333333332, 0.06068266516666667, 0.0593510385, 0.05305222343333335]\n",
       " [0.12623453773333332, 0.23955023153333332, 0.27620211550000007, 0.1629542039]\n",
       " [0.5555732392666667, 0.9123979131000001, 1.1306037867000003, 0.5888000273333334]\n",
       " [2.5390206883333337, 2.957376237033334, 4.991906761300001, 2.7674409773999997]"
      ]
     },
     "execution_count": 76,
     "metadata": {},
     "output_type": "execute_result"
    }
   ],
   "source": [
    "arr_time"
   ]
  },
  {
   "cell_type": "code",
   "execution_count": 41,
   "metadata": {},
   "outputs": [
    {
     "data": {
      "text/plain": [
       "13-element Array{Float64,1}:\n",
       " 6.4929507e7\n",
       " 6.5049579e7\n",
       " 7.7447115e7\n",
       " 7.3743377e7\n",
       " 7.8182339e7\n",
       " 8.2424351e7\n",
       " 7.983025e7\n",
       " 9.0463789e7\n",
       " 9.0254223e7\n",
       " 9.9398462e7\n",
       " 9.4692771e7\n",
       " 8.5598788e7\n",
       " 1.17096382e8"
      ]
     },
     "execution_count": 41,
     "metadata": {},
     "output_type": "execute_result"
    }
   ],
   "source": [
    "out.gctimes"
   ]
  },
  {
   "cell_type": "code",
   "execution_count": 56,
   "metadata": {},
   "outputs": [
    {
     "data": {
      "text/plain": [
       "BenchmarkTools.TrialEstimate: \n",
       "  time:             317.044 ms\n",
       "  gctime:           64.930 ms (20.48%)\n",
       "  memory:           316.64 MiB\n",
       "  allocs:           5334104"
      ]
     },
     "execution_count": 56,
     "metadata": {},
     "output_type": "execute_result"
    }
   ],
   "source": [
    "d = minimum(out)"
   ]
  },
  {
   "cell_type": "code",
   "execution_count": 4,
   "metadata": {},
   "outputs": [],
   "source": [
    "g = process_network(16384, 8.0, 4, 1)\n",
    "g1 = process_network(16384, 8.0, 4, 1)\n",
    "netx.transpose_graph(g1)\n",
    "return\n",
    "#time = netx.dfs_search(g)"
   ]
  },
  {
   "cell_type": "code",
   "execution_count": 13,
   "metadata": {},
   "outputs": [
    {
     "data": {
      "text/plain": [
       "([1, 1, 1, 1, 1, 1, 1, 1, 1, 1  …  1, 1, 1, 1, 1, 1, 1, 1, 1, 1], [1, 1639, 12570, 399, 12689, 14279, 6165, 12047, 4007, 915  …  5010, 10798, 1199, 9801, 6914, 13721, 4893, 324, 7357, 4177], [-1, 12208, 994, 6441, 13228, 3462, 13737, 818, 12234, 16323  …  2492, 10283, 9323, 2403, 676, 1423, 9422, 2474, 11696, 11945], [32760, 31118, 19239, 32362, 19116, 14292, 26512, 19942, 28726, 31844  …  27705, 21419, 31558, 22564, 25725, 17976, 27824, 32437, 25250, 28552])"
      ]
     },
     "execution_count": 13,
     "metadata": {},
     "output_type": "execute_result"
    }
   ],
   "source": [
    "color, dist, parent, finished = netx.dfs_search(g)"
   ]
  },
  {
   "cell_type": "code",
   "execution_count": 20,
   "metadata": {},
   "outputs": [
    {
     "data": {
      "text/plain": [
       "5-element Array{Int64,1}:\n",
       "  3808\n",
       " 13643\n",
       "  1276\n",
       "     1\n",
       " 16202"
      ]
     },
     "execution_count": 20,
     "metadata": {},
     "output_type": "execute_result"
    }
   ],
   "source": [
    "function find_root(node::Int, parent::Array{Int})\n",
    "    par = parent[node]\n",
    "    r = node\n",
    "    while par!=-1\n",
    "        r = par\n",
    "        par = parent[par]\n",
    "    end\n",
    "    return r\n",
    "end\n",
    "\n",
    "roots = Int[]\n",
    "for v in 1:length(g.vertices)\n",
    "    push!(roots, find_root(v, parent))\n",
    "end\n",
    "roots = collect(Int, Set(roots))"
   ]
  },
  {
   "cell_type": "code",
   "execution_count": 10,
   "metadata": {},
   "outputs": [
    {
     "name": "stdout",
     "output_type": "stream",
     "text": [
      "netx.Edge[netx.Edge(1, 3158, 1, true), netx.Edge(2, 6628, 1, true), netx.Edge(3, 7982, 1, true), netx.Edge(4, 11581, 1, true), netx.Edge(5, 13416, 1, true), netx.Edge(6, 15773, 1, true)]"
     ]
    }
   ],
   "source": [
    "print(node1_t_tgt)"
   ]
  },
  {
   "cell_type": "code",
   "execution_count": null,
   "metadata": {},
   "outputs": [],
   "source": []
  }
 ],
 "metadata": {
  "kernelspec": {
   "display_name": "Julia 1.5.2",
   "language": "julia",
   "name": "julia-1.5"
  },
  "language_info": {
   "file_extension": ".jl",
   "mimetype": "application/julia",
   "name": "julia",
   "version": "1.5.2"
  },
  "toc": {
   "base_numbering": 1,
   "nav_menu": {},
   "number_sections": true,
   "sideBar": true,
   "skip_h1_title": false,
   "title_cell": "Table of Contents",
   "title_sidebar": "Contents",
   "toc_cell": false,
   "toc_position": {},
   "toc_section_display": true,
   "toc_window_display": false
  },
  "varInspector": {
   "cols": {
    "lenName": 16,
    "lenType": 16,
    "lenVar": 40
   },
   "kernels_config": {
    "python": {
     "delete_cmd_postfix": "",
     "delete_cmd_prefix": "del ",
     "library": "var_list.py",
     "varRefreshCmd": "print(var_dic_list())"
    },
    "r": {
     "delete_cmd_postfix": ") ",
     "delete_cmd_prefix": "rm(",
     "library": "var_list.r",
     "varRefreshCmd": "cat(var_dic_list()) "
    }
   },
   "types_to_exclude": [
    "module",
    "function",
    "builtin_function_or_method",
    "instance",
    "_Feature"
   ],
   "window_display": false
  }
 },
 "nbformat": 4,
 "nbformat_minor": 4
}
